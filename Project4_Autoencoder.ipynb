{
 "cells": [
  {
   "cell_type": "markdown",
   "metadata": {},
   "source": [
    "<img src=\"./images/header.png\">\n",
    "\n",
    "***"
   ]
  },
  {
   "cell_type": "markdown",
   "metadata": {},
   "source": [
    "# Projeto 4 - Experimento Autoencoder\n",
    "\n",
    "Discente: Willian Vieira de Oliveira\n",
    "\n",
    "Doscente: Dr. Marcos Quiles"
   ]
  },
  {
   "cell_type": "markdown",
   "metadata": {},
   "source": [
    "## Descrição do projeto\n",
    "\n",
    "Implementar um **autoencoder** (usar Keras - ou não...), considerando o dataset MNIST.\n",
    "    - Variar o número de neurônios internos e o número de camadas (stacks);\n",
    "    - Visualizar a codificação gerada pelos neurônios da primeira camada oculta;\n",
    "    - Implementar um autoencoder com uma camada de codificação linear;\n",
    "    - Comparar o resultado com a PCA.\n",
    "\n",
    "***"
   ]
  },
  {
   "cell_type": "markdown",
   "metadata": {},
   "source": [
    "## Pacotes utilizados"
   ]
  },
  {
   "cell_type": "code",
   "execution_count": 1,
   "metadata": {},
   "outputs": [],
   "source": [
    "import pandas as pd\n",
    "import numpy as np\n",
    "import matplotlib.pyplot as plt\n",
    "from sklearn.model_selection import train_test_split\n",
    "%matplotlib inline \n",
    "\n",
    "import seaborn as sns\n",
    "from math import sqrt\n",
    "\n",
    "# Autoencoder development\n",
    "from tensorflow.keras.models import Sequential\n",
    "from tensorflow.keras.layers import Dense, Input\n",
    "from tensorflow.python.keras import utils\n",
    "from tensorflow.keras import regularizers, optimizers\n",
    "from tensorflow.keras.models import Model\n",
    "\n",
    "import warnings\n",
    "warnings.filterwarnings(\"ignore\")\n",
    "\n",
    "# PCA\n",
    "from sklearn.preprocessing import StandardScaler\n",
    "from sklearn.decomposition import PCA"
   ]
  },
  {
   "cell_type": "markdown",
   "metadata": {},
   "source": [
    "## Dataset MNIST\n",
    "\n",
    "#### Descrição do dataset\n",
    "\n",
    "- **Título:** MNIST dataset - Modified National Institute of Standards and Technology dataset;\n",
    "- **Criadores:** Yann LeCun, Corinna Cortes e Christopher J.C. Burges;\n",
    "- **Data:** 2010;\n",
    "\n",
    "- **Descrição dos dados** Imagens de números escritos a mão;\n",
    "- **Conjunto de treino** 60000 examplos;\n",
    "- **Conjunto de teste:** 10000 examplos;\n",
    "   \n",
    "- **Mais informações:** http://yann.lecun.com/exdb/mnist/."
   ]
  },
  {
   "cell_type": "code",
   "execution_count": 2,
   "metadata": {},
   "outputs": [
    {
     "name": "stderr",
     "output_type": "stream",
     "text": [
      "Using TensorFlow backend.\n"
     ]
    }
   ],
   "source": [
    "from keras.datasets import mnist"
   ]
  },
  {
   "cell_type": "markdown",
   "metadata": {},
   "source": [
    "#### Dados de entrada"
   ]
  },
  {
   "cell_type": "code",
   "execution_count": 3,
   "metadata": {},
   "outputs": [],
   "source": [
    "(X_train, Y_train), (X_test, Y_test) = mnist.load_data()"
   ]
  },
  {
   "cell_type": "markdown",
   "metadata": {},
   "source": [
    "#### Vizualização do primeiro dígido do conjunto de treino"
   ]
  },
  {
   "cell_type": "code",
   "execution_count": 4,
   "metadata": {},
   "outputs": [
    {
     "data": {
      "image/png": "[encoded data removed]",
      "text/plain": [
       "<Figure size 432x288 with 1 Axes>"
      ]
     },
     "metadata": {
      "needs_background": "light"
     },
     "output_type": "display_data"
    },
    {
     "name": "stdout",
     "output_type": "stream",
     "text": [
      "Digito:  5\n"
     ]
    },
    {
     "data": {
      "image/png": "[encoded data removed]",
      "text/plain": [
       "<Figure size 432x288 with 1 Axes>"
      ]
     },
     "metadata": {
      "needs_background": "light"
     },
     "output_type": "display_data"
    },
    {
     "name": "stdout",
     "output_type": "stream",
     "text": [
      "Digito:  0\n"
     ]
    }
   ],
   "source": [
    "plt.imshow(X_train[0])\n",
    "plt.show()\n",
    "print(\"Digito: \", Y_train[0])\n",
    "\n",
    "\n",
    "plt.imshow(X_train[1])\n",
    "plt.show()\n",
    "print(\"Digito: \", Y_train[1])"
   ]
  },
  {
   "cell_type": "markdown",
   "metadata": {},
   "source": [
    "### Data preparation"
   ]
  },
  {
   "cell_type": "code",
   "execution_count": 5,
   "metadata": {},
   "outputs": [
    {
     "data": {
      "text/plain": [
       "(28, 28)"
      ]
     },
     "execution_count": 5,
     "metadata": {},
     "output_type": "execute_result"
    }
   ],
   "source": [
    "X_train[0].shape"
   ]
  },
  {
   "cell_type": "code",
   "execution_count": 6,
   "metadata": {},
   "outputs": [
    {
     "name": "stdout",
     "output_type": "stream",
     "text": [
      "(60000, 784)\n",
      "(10000, 784)\n"
     ]
    }
   ],
   "source": [
    "# Scale the dataset values to lie between 0 and 1\n",
    "X_train = X_train.astype('float32') / 255.\n",
    "X_test = X_test.astype('float32') / 255.\n",
    "\n",
    "# Data reshaping\n",
    "#X_train_ = np.reshape(X_train, (len(X_train), X_train[0].shape[0], X_train[0].shape[1], 1))\n",
    "#X_test_ = np.reshape(X_test, (len(X_test), X_test[0].shape[0], X_test[0].shape[1], 1))\n",
    "\n",
    "X_train_ = X_train.reshape((len(X_train), np.prod(X_train.shape[1:])))\n",
    "X_test_ = X_test.reshape((len(X_test), np.prod(X_test.shape[1:])))\n",
    "\n",
    "print(X_train_.shape)\n",
    "print(X_test_.shape)"
   ]
  },
  {
   "cell_type": "code",
   "execution_count": 7,
   "metadata": {},
   "outputs": [
    {
     "data": {
      "text/plain": [
       "784"
      ]
     },
     "execution_count": 7,
     "metadata": {},
     "output_type": "execute_result"
    }
   ],
   "source": [
    "input_shape = X_train_[1].shape[0]\n",
    "input_shape"
   ]
  },
  {
   "cell_type": "markdown",
   "metadata": {},
   "source": [
    "## Funções auxiliar para criação do autoencoder\n",
    "\n",
    "Para geração do autoencoder foi utilizado a função de ativação 'Rectified Linear Unit' (relu) para todas as camadas intermidiárias. Para a camada de saída foi adotado a função de ativação 'sigmoid'. O número de camadas escondidas e neurônios variou conforme o teste realizado."
   ]
  },
  {
   "cell_type": "code",
   "execution_count": 8,
   "metadata": {},
   "outputs": [],
   "source": [
    "# https://blog.keras.io/building-autoencoders-in-keras.html\n",
    "def Autoencoder_model(Neurons_in_encoder_layers, Neurons_in_decoder_layers, input_shape):\n",
    "    \n",
    "    input_img = Input(shape=(input_shape,))\n",
    "    \n",
    "    # First hidden layer\n",
    "    encoded = Dense(units=Neurons_in_encoder_layers[0], activation=\"relu\")(input_img)  \n",
    "    \n",
    "    # Intermediate hidden layers\n",
    "    # Encoder\n",
    "    for n_neurons in Neurons_in_encoder_layers[1:]:\n",
    "        encoded = Dense(units=n_neurons, activation='relu')(encoded)\n",
    "    # Decoder\n",
    "    decoded = encoded\n",
    "    for n_neurons in Neurons_in_decoder_layers:\n",
    "        decoded = Dense(units=n_neurons, activation='relu')(decoded)\n",
    "    \n",
    "    # output layer, considering the same dimension of the input data\n",
    "    decoded = Dense(units=input_shape, activation='sigmoid')(decoded)\n",
    "    \n",
    "    # Models\n",
    "    # - this model maps an input to its reconstruction\n",
    "    autoencoder = Model(input_img, decoded)\n",
    "    \n",
    "    # - this model maps an input to its encoded representation\n",
    "    encoder = Model(input_img, encoded)\n",
    "    \n",
    "    # - decoder model\n",
    "    compression_factor = input_shape/Neurons_in_encoder_layers[0] # The number of neurons in the output layer must be equal to \n",
    "                                                                        #the number o neurons in the output layer\n",
    "    encoding_dim = input_shape/compression_factor\n",
    "    encoded_input = Input(shape=(encoding_dim,)) # create a placeholder for an encoded (32-dimensional) input\n",
    "    decoder_layer = autoencoder.layers[-1] # retrieve the last layer of the autoencoder model\n",
    "    decoder = Model(encoded_input, decoder_layer(encoded_input)) # create the decoder model\n",
    "    \n",
    "    print(\"Compression factor used to define the decoder model: \", compression_factor)\n",
    "    \n",
    "    return autoencoder, encoder, decoder"
   ]
  },
  {
   "cell_type": "markdown",
   "metadata": {},
   "source": [
    "***\n",
    "\n",
    "## Testes realizados\n",
    "\n",
    "Os testes realizados nesse projeto consideraram a variação dos parâmetros associados ao número de neurônios internos e o número de stacks.\n",
    "\n",
    "### Teste 1\n",
    "- **Camadas escondidas:** 3\n",
    "- **Neurônios internos:** {32, 16, 32}"
   ]
  },
  {
   "cell_type": "code",
   "execution_count": 9,
   "metadata": {},
   "outputs": [],
   "source": [
    "Neurons_in_encoder_layers = [32, 16]\n",
    "Neurons_in_decoder_layers = [32]"
   ]
  },
  {
   "cell_type": "code",
   "execution_count": 10,
   "metadata": {},
   "outputs": [
    {
     "name": "stdout",
     "output_type": "stream",
     "text": [
      "WARNING:tensorflow:From C:\\Users\\Willian\\Anaconda3\\lib\\site-packages\\tensorflow\\python\\ops\\resource_variable_ops.py:435: colocate_with (from tensorflow.python.framework.ops) is deprecated and will be removed in a future version.\n",
      "Instructions for updating:\n",
      "Colocations handled automatically by placer.\n",
      "Compression factor used to define the decoder model:  24.5\n"
     ]
    }
   ],
   "source": [
    "autoencoder, encoder, decoder = Autoencoder_model(Neurons_in_encoder_layers, Neurons_in_decoder_layers, input_shape)\n",
    "\n",
    "autoencoder.compile(optimizer='adadelta', loss='binary_crossentropy')"
   ]
  },
  {
   "cell_type": "code",
   "execution_count": 11,
   "metadata": {},
   "outputs": [
    {
     "name": "stdout",
     "output_type": "stream",
     "text": [
      "WARNING:tensorflow:From C:\\Users\\Willian\\Anaconda3\\lib\\site-packages\\tensorflow\\python\\ops\\math_ops.py:3066: to_int32 (from tensorflow.python.ops.math_ops) is deprecated and will be removed in a future version.\n",
      "Instructions for updating:\n",
      "Use tf.cast instead.\n"
     ]
    }
   ],
   "source": [
    "history = autoencoder.fit(X_train_, X_train_, epochs=100, batch_size=256, shuffle=True, validation_data=(X_test_, X_test_),\n",
    "                          verbose=False)"
   ]
  },
  {
   "cell_type": "code",
   "execution_count": 12,
   "metadata": {},
   "outputs": [
    {
     "data": {
      "image/png": "[encoded data removed]",
      "text/plain": [
       "<Figure size 432x288 with 1 Axes>"
      ]
     },
     "metadata": {
      "needs_background": "light"
     },
     "output_type": "display_data"
    }
   ],
   "source": [
    "# plot history\n",
    "plt.plot(history.history['loss'], label='Train')\n",
    "plt.plot(history.history['val_loss'], label='Test')\n",
    "plt.title('Model accuracy')\n",
    "plt.ylabel('Accuracy')\n",
    "plt.xlabel('Epoch')\n",
    "plt.legend()\n",
    "plt.show()"
   ]
  },
  {
   "cell_type": "code",
   "execution_count": 13,
   "metadata": {},
   "outputs": [],
   "source": [
    "# Encode and decode some digits\n",
    "encoded_imgs = encoder.predict(X_test_)\n",
    "decoded_imgs = autoencoder.predict(X_test_)"
   ]
  },
  {
   "cell_type": "code",
   "execution_count": 14,
   "metadata": {},
   "outputs": [],
   "source": [
    "# Get codification generated by the first hidden layer\n",
    "layer_outputs = [layer.output for layer in autoencoder.layers[:102] if not layer.name.startswith('input')]\n",
    "first_HL = Model(inputs=autoencoder.input, outputs=layer_outputs[0])\n",
    "\n",
    "encoded_images_First_HL = first_HL.predict(X_test_)"
   ]
  },
  {
   "cell_type": "markdown",
   "metadata": {},
   "source": [
    "#### Visualização das entradas reconstruídas e das representações codificadas pela primeira camada oculta"
   ]
  },
  {
   "cell_type": "code",
   "execution_count": 15,
   "metadata": {},
   "outputs": [
    {
     "name": "stdout",
     "output_type": "stream",
     "text": [
      "Número de dígitos a ser visualizado:  10\n"
     ]
    }
   ],
   "source": [
    "# How many digits we will display\n",
    "n = 10  \n",
    "print(\"Número de dígitos a ser visualizado: \", n)"
   ]
  },
  {
   "cell_type": "code",
   "execution_count": 16,
   "metadata": {},
   "outputs": [
    {
     "name": "stdout",
     "output_type": "stream",
     "text": [
      "Dígitos originais: \n"
     ]
    },
    {
     "data": {
      "image/png": "[encoded data removed]",
      "text/plain": [
       "<Figure size 1440x288 with 10 Axes>"
      ]
     },
     "metadata": {
      "needs_background": "light"
     },
     "output_type": "display_data"
    },
    {
     "name": "stdout",
     "output_type": "stream",
     "text": [
      "Dígitos codificados pela primeira camada oculta: \n"
     ]
    },
    {
     "data": {
      "image/png": "[encoded data removed]",
      "text/plain": [
       "<Figure size 1440x720 with 10 Axes>"
      ]
     },
     "metadata": {
      "needs_background": "light"
     },
     "output_type": "display_data"
    },
    {
     "name": "stdout",
     "output_type": "stream",
     "text": [
      "Dígitos reconstruídos: \n"
     ]
    },
    {
     "data": {
      "image/png": "[encoded data removed]",
      "text/plain": [
       "<Figure size 1440x288 with 10 Axes>"
      ]
     },
     "metadata": {
      "needs_background": "light"
     },
     "output_type": "display_data"
    }
   ],
   "source": [
    "print(\"Dígitos originais: \")\n",
    "plt.figure(figsize=(20, 4))\n",
    "for i in range(n):\n",
    "    # display original\n",
    "    ax = plt.subplot(2, n, i + 1)\n",
    "    plt.imshow(X_test_[i].reshape(28, 28))\n",
    "    plt.gray()\n",
    "    ax.get_xaxis().set_visible(False)\n",
    "    ax.get_yaxis().set_visible(False)\n",
    "plt.show()\n",
    "\n",
    "print(\"Dígitos codificados pela primeira camada oculta: \")\n",
    "plt.figure(figsize=(20, 10))\n",
    "for i in range(1, n+1):\n",
    "    ax = plt.subplot(1, n, i)\n",
    "    plt.imshow(encoded_images_First_HL[i].reshape(8, 4).T)\n",
    "    plt.gray()\n",
    "    ax.get_xaxis().set_visible(False)\n",
    "    ax.get_yaxis().set_visible(False)\n",
    "plt.show()\n",
    "\n",
    "print(\"Dígitos reconstruídos: \")\n",
    "plt.figure(figsize=(20, 4))\n",
    "for i in range(n):\n",
    "    # display reconstruction\n",
    "    ax = plt.subplot(2, n, i + 1 + n)\n",
    "    plt.imshow(decoded_imgs[i].reshape(28, 28))\n",
    "    plt.gray()\n",
    "    ax.get_xaxis().set_visible(False)\n",
    "    ax.get_yaxis().set_visible(False)\n",
    "plt.show()"
   ]
  },
  {
   "cell_type": "markdown",
   "metadata": {},
   "source": [
    "***\n",
    "\n",
    "### Teste 2\n",
    "- **Camdas escondidas:** 5\n",
    "- **Neurônios internos:** {128, 64, 32, 64, 128}\n"
   ]
  },
  {
   "cell_type": "code",
   "execution_count": 17,
   "metadata": {},
   "outputs": [],
   "source": [
    "Neurons_in_encoder_layers = [128, 64, 32]\n",
    "Neurons_in_decoder_layers = [64, 128]"
   ]
  },
  {
   "cell_type": "code",
   "execution_count": 18,
   "metadata": {},
   "outputs": [
    {
     "name": "stdout",
     "output_type": "stream",
     "text": [
      "Compression factor used to define the decoder model:  6.125\n"
     ]
    }
   ],
   "source": [
    "autoencoder, encoder, decoder = Autoencoder_model(Neurons_in_encoder_layers, Neurons_in_decoder_layers, input_shape)\n",
    "\n",
    "autoencoder.compile(optimizer='adadelta', loss='binary_crossentropy')"
   ]
  },
  {
   "cell_type": "code",
   "execution_count": 19,
   "metadata": {},
   "outputs": [],
   "source": [
    "history = autoencoder.fit(X_train_, X_train_, epochs=100, batch_size=256, shuffle=True, validation_data=(X_test_, X_test_),\n",
    "                          verbose=False)"
   ]
  },
  {
   "cell_type": "code",
   "execution_count": 20,
   "metadata": {},
   "outputs": [
    {
     "data": {
      "image/png": "[encoded data removed]",
      "text/plain": [
       "<Figure size 432x288 with 1 Axes>"
      ]
     },
     "metadata": {
      "needs_background": "light"
     },
     "output_type": "display_data"
    }
   ],
   "source": [
    "# plot history\n",
    "plt.plot(history.history['loss'], label='Train')\n",
    "plt.plot(history.history['val_loss'], label='Test')\n",
    "plt.title('Model accuracy')\n",
    "plt.ylabel('Accuracy')\n",
    "plt.xlabel('Epoch')\n",
    "plt.legend()\n",
    "plt.show()"
   ]
  },
  {
   "cell_type": "code",
   "execution_count": 21,
   "metadata": {},
   "outputs": [],
   "source": [
    "# Encode and decode some digits\n",
    "encoded_imgs = encoder.predict(X_test_)\n",
    "decoded_imgs = autoencoder.predict(X_test_)"
   ]
  },
  {
   "cell_type": "code",
   "execution_count": 22,
   "metadata": {},
   "outputs": [],
   "source": [
    "# Get codification generated by the first hidden layer\n",
    "layer_outputs = [layer.output for layer in autoencoder.layers[:102] if not layer.name.startswith('input')]\n",
    "first_HL = Model(inputs=autoencoder.input, outputs=layer_outputs[0])\n",
    "\n",
    "encoded_images_First_HL = first_HL.predict(X_test_)"
   ]
  },
  {
   "cell_type": "markdown",
   "metadata": {},
   "source": [
    "#### Visualização das entradas reconstruídas e das representações codificadas pela primeira camada oculta"
   ]
  },
  {
   "cell_type": "code",
   "execution_count": 23,
   "metadata": {},
   "outputs": [
    {
     "name": "stdout",
     "output_type": "stream",
     "text": [
      "Número de dígitos a ser visualizado:  10\n"
     ]
    }
   ],
   "source": [
    "# How many digits we will display\n",
    "n = 10  \n",
    "print(\"Número de dígitos a ser visualizado: \", n)"
   ]
  },
  {
   "cell_type": "code",
   "execution_count": 24,
   "metadata": {
    "scrolled": false
   },
   "outputs": [
    {
     "name": "stdout",
     "output_type": "stream",
     "text": [
      "Dígitos originais: \n"
     ]
    },
    {
     "data": {
      "image/png": "[encoded data removed]",
      "text/plain": [
       "<Figure size 1440x288 with 10 Axes>"
      ]
     },
     "metadata": {
      "needs_background": "light"
     },
     "output_type": "display_data"
    },
    {
     "name": "stdout",
     "output_type": "stream",
     "text": [
      "Dígitos codificados pela primeira camada oculta: \n"
     ]
    },
    {
     "data": {
      "image/png": "[encoded data removed]",
      "text/plain": [
       "<Figure size 1440x720 with 10 Axes>"
      ]
     },
     "metadata": {
      "needs_background": "light"
     },
     "output_type": "display_data"
    },
    {
     "name": "stdout",
     "output_type": "stream",
     "text": [
      "Dígitos reconstruídos: \n"
     ]
    },
    {
     "data": {
      "image/png": "[encoded data removed]",
      "text/plain": [
       "<Figure size 1440x288 with 10 Axes>"
      ]
     },
     "metadata": {
      "needs_background": "light"
     },
     "output_type": "display_data"
    }
   ],
   "source": [
    "print(\"Dígitos originais: \")\n",
    "plt.figure(figsize=(20, 4))\n",
    "for i in range(n):\n",
    "    # display original\n",
    "    ax = plt.subplot(2, n, i + 1)\n",
    "    plt.imshow(X_test_[i].reshape(28, 28))\n",
    "    plt.gray()\n",
    "    ax.get_xaxis().set_visible(False)\n",
    "    ax.get_yaxis().set_visible(False)\n",
    "plt.show()\n",
    "\n",
    "print(\"Dígitos codificados pela primeira camada oculta: \")\n",
    "plt.figure(figsize=(20, 10))\n",
    "for i in range(1, n+1):\n",
    "    ax = plt.subplot(1, n, i)\n",
    "    plt.imshow(encoded_images_First_HL[i].reshape(8, 16).T)\n",
    "    plt.gray()\n",
    "    ax.get_xaxis().set_visible(False)\n",
    "    ax.get_yaxis().set_visible(False)\n",
    "plt.show()\n",
    "\n",
    "print(\"Dígitos reconstruídos: \")\n",
    "plt.figure(figsize=(20, 4))\n",
    "for i in range(n):\n",
    "    # display reconstruction\n",
    "    ax = plt.subplot(2, n, i + 1 + n)\n",
    "    plt.imshow(decoded_imgs[i].reshape(28, 28))\n",
    "    plt.gray()\n",
    "    ax.get_xaxis().set_visible(False)\n",
    "    ax.get_yaxis().set_visible(False)\n",
    "plt.show()"
   ]
  },
  {
   "cell_type": "markdown",
   "metadata": {},
   "source": [
    "Em geral, autoencoders visam aprender uma representação (encoding) para um determinado conjunto de dados, tipicamente para o propósito de redução de dimensionalidade. A partir dos dois testes realizados é possível observar a influência da estrutura definida para o Autoencoder na representação de um conjunto de dados. No segundo teste foi considerado um maior número de camadas ocultas, além de um maior número de neurônios em cada camada. Este teste resultou em uma melhor representação dos dígitos analisados."
   ]
  },
  {
   "cell_type": "markdown",
   "metadata": {},
   "source": [
    "### Comparação com PCA"
   ]
  },
  {
   "cell_type": "code",
   "execution_count": 31,
   "metadata": {},
   "outputs": [],
   "source": [
    "from sklearn.preprocessing import MinMaxScaler\n",
    "\n",
    "scaler = MinMaxScaler()\n",
    "scaler.fit(X_train_)\n",
    "X_scaled = scaler.transform(X_train_)"
   ]
  },
  {
   "cell_type": "code",
   "execution_count": 32,
   "metadata": {},
   "outputs": [],
   "source": [
    "scaler = StandardScaler()\n",
    "scaler.fit(X_train_)\n",
    "X_sc_train = scaler.transform(X_train_)\n",
    "X_sc_test = scaler.transform(X_test_)"
   ]
  },
  {
   "cell_type": "markdown",
   "metadata": {},
   "source": [
    "#### PCA decomposition\n",
    "\n",
    "O número de componentes adotada abaixo foi definido arbitrariamente para visualização da variância acumulativa desse conjunto de dados. A partir do gráfico ilustrado abaixo foi definido o número de componentes a ser adotado para transformação do conjunto de dados analisado nesse notebook."
   ]
  },
  {
   "cell_type": "code",
   "execution_count": 33,
   "metadata": {},
   "outputs": [
    {
     "data": {
      "text/plain": [
       "Text(0, 0.5, 'Cumulative explained variance')"
      ]
     },
     "execution_count": 33,
     "metadata": {},
     "output_type": "execute_result"
    },
    {
     "data": {
      "image/png": "[encoded data removed]",
      "text/plain": [
       "<Figure size 432x288 with 1 Axes>"
      ]
     },
     "metadata": {
      "needs_background": "light"
     },
     "output_type": "display_data"
    }
   ],
   "source": [
    "pca = PCA(n_components=500)\n",
    "pca.fit(X_train_)\n",
    "\n",
    "plt.plot(np.cumsum(pca.explained_variance_ratio_))\n",
    "plt.xlabel('Number of components')\n",
    "plt.ylabel('Cumulative explained variance')"
   ]
  },
  {
   "cell_type": "markdown",
   "metadata": {},
   "source": [
    "A partir da análise do gráfico acima foi definido um número de componentes igual a 100. No gráfico é possível observar que a variância acumulativa é alta próximo de 100 componentes, crescendo lentamente após este número de componentes. Assim, acredita-se que os daddos que descrevem as alterações estão contidos principalmente em 100 componentes. Para fins de comparação, este teste foi repetido utilizando-se também um número de componentes igual a 200"
   ]
  },
  {
   "cell_type": "markdown",
   "metadata": {},
   "source": [
    "#### Número de componentes: 100"
   ]
  },
  {
   "cell_type": "code",
   "execution_count": 51,
   "metadata": {},
   "outputs": [],
   "source": [
    "NCOMPONENTS = 100\n",
    "\n",
    "pca = PCA(n_components=NCOMPONENTS)\n",
    "X_pca_train = pca.fit_transform(X_sc_train)\n",
    "X_pca_test = pca.transform(X_sc_test)\n",
    "pca_std = np.std(X_pca_train)"
   ]
  },
  {
   "cell_type": "code",
   "execution_count": 52,
   "metadata": {},
   "outputs": [],
   "source": [
    "inv_pca_train = pca.inverse_transform(X_pca_train)\n",
    "inv_sc_train = scaler.inverse_transform(inv_pca_train)\n",
    "\n",
    "inv_pca_test = pca.inverse_transform(X_pca_test)\n",
    "inv_sc_test_100 = scaler.inverse_transform(inv_pca_test)"
   ]
  },
  {
   "cell_type": "markdown",
   "metadata": {},
   "source": [
    "#### Número de componentes: 200"
   ]
  },
  {
   "cell_type": "code",
   "execution_count": 53,
   "metadata": {},
   "outputs": [],
   "source": [
    "NCOMPONENTS = 200\n",
    "\n",
    "pca = PCA(n_components=NCOMPONENTS)\n",
    "X_pca_train = pca.fit_transform(X_sc_train)\n",
    "X_pca_test = pca.transform(X_sc_test)\n",
    "pca_std = np.std(X_pca_train)"
   ]
  },
  {
   "cell_type": "code",
   "execution_count": 54,
   "metadata": {},
   "outputs": [],
   "source": [
    "inv_pca_train = pca.inverse_transform(X_pca_train)\n",
    "inv_sc_train = scaler.inverse_transform(inv_pca_train)\n",
    "\n",
    "inv_pca_test = pca.inverse_transform(X_pca_test)\n",
    "inv_sc_test_200 = scaler.inverse_transform(inv_pca_test)"
   ]
  },
  {
   "cell_type": "code",
   "execution_count": 55,
   "metadata": {},
   "outputs": [
    {
     "name": "stdout",
     "output_type": "stream",
     "text": [
      "Dígitos originais: \n"
     ]
    },
    {
     "data": {
      "image/png": "[encoded data removed]",
      "text/plain": [
       "<Figure size 1440x288 with 10 Axes>"
      ]
     },
     "metadata": {
      "needs_background": "light"
     },
     "output_type": "display_data"
    },
    {
     "name": "stdout",
     "output_type": "stream",
     "text": [
      "Dígitos reconstruídos utilizando Autoencoder: \n"
     ]
    },
    {
     "data": {
      "image/png": "[encoded data removed]",
      "text/plain": [
       "<Figure size 1440x288 with 10 Axes>"
      ]
     },
     "metadata": {
      "needs_background": "light"
     },
     "output_type": "display_data"
    },
    {
     "name": "stdout",
     "output_type": "stream",
     "text": [
      "Dígitos reconstruídos utilizando PCA, com 100 componentes: \n"
     ]
    },
    {
     "data": {
      "image/png": "[encoded data removed]",
      "text/plain": [
       "<Figure size 1440x288 with 10 Axes>"
      ]
     },
     "metadata": {
      "needs_background": "light"
     },
     "output_type": "display_data"
    },
    {
     "name": "stdout",
     "output_type": "stream",
     "text": [
      "Dígitos reconstruídos utilizando PCA, com 200 componentes: \n"
     ]
    },
    {
     "data": {
      "image/png": "[encoded data removed]",
      "text/plain": [
       "<Figure size 1440x288 with 10 Axes>"
      ]
     },
     "metadata": {
      "needs_background": "light"
     },
     "output_type": "display_data"
    }
   ],
   "source": [
    "print(\"Dígitos originais: \")\n",
    "plt.figure(figsize=(20, 4))\n",
    "for i in range(n):\n",
    "    # display original\n",
    "    ax = plt.subplot(2, n, i + 1)\n",
    "    plt.imshow(X_test_[i].reshape(28, 28))\n",
    "    plt.gray()\n",
    "    ax.get_xaxis().set_visible(False)\n",
    "    ax.get_yaxis().set_visible(False)\n",
    "plt.show()\n",
    "\n",
    "print(\"Dígitos reconstruídos utilizando Autoencoder: \")\n",
    "plt.figure(figsize=(20, 4))\n",
    "for i in range(n):\n",
    "    # display reconstruction\n",
    "    ax = plt.subplot(2, n, i + 1 + n)\n",
    "    plt.imshow(decoded_imgs[i].reshape(28, 28))\n",
    "    plt.gray()\n",
    "    ax.get_xaxis().set_visible(False)\n",
    "    ax.get_yaxis().set_visible(False)\n",
    "plt.show()\n",
    "\n",
    "print(\"Dígitos reconstruídos utilizando PCA, com 100 componentes: \")\n",
    "plt.figure(figsize=(20, 4))\n",
    "for i in range(n):\n",
    "    # display reconstruction\n",
    "    ax = plt.subplot(2, n, i + 1 + n)\n",
    "    plt.imshow(inv_sc_test_100[i].reshape(28, 28))\n",
    "    plt.gray()\n",
    "    ax.get_xaxis().set_visible(False)\n",
    "    ax.get_yaxis().set_visible(False)\n",
    "plt.show()\n",
    "\n",
    "print(\"Dígitos reconstruídos utilizando PCA, com 200 componentes: \")\n",
    "plt.figure(figsize=(20, 4))\n",
    "for i in range(n):\n",
    "    # display reconstruction\n",
    "    ax = plt.subplot(2, n, i + 1 + n)\n",
    "    plt.imshow(inv_sc_test_200[i].reshape(28, 28))\n",
    "    plt.gray()\n",
    "    ax.get_xaxis().set_visible(False)\n",
    "    ax.get_yaxis().set_visible(False)\n",
    "plt.show()"
   ]
  },
  {
   "cell_type": "markdown",
   "metadata": {},
   "source": [
    "Note que a utilização do Autoencoder (Teste 2) resultou em representações mais nítidas do que aquelas obtidas utilizando PCA, mesmo ao se adotar um número de componentes igual a 200."
   ]
  },
  {
   "cell_type": "markdown",
   "metadata": {},
   "source": [
    "***\n",
    "## Referências\n",
    "\n",
    "[1] Asha, Goyal. Autoencoders in Keras. Disponível em: <https://towardsdatascience.com/autoencoders-in-keras-c1f57b9a2fd7>. Acesso em 20 Dez. 2019.\n",
    "\n",
    "[2] Milewski, Piotr. PCA decomposition and Keras neural network. Disponível em: <https://www.kaggle.com/pmmilewski/pca-decomposition-and-keras-neural-network>. Acesso em 20 Dez. 2019."
   ]
  }
 ],
 "metadata": {
  "kernelspec": {
   "display_name": "Python 3",
   "language": "python",
   "name": "python3"
  },
  "language_info": {
   "codemirror_mode": {
    "name": "ipython",
    "version": 3
   },
   "file_extension": ".py",
   "mimetype": "text/x-python",
   "name": "python",
   "nbconvert_exporter": "python",
   "pygments_lexer": "ipython3",
   "version": "3.7.3"
  }
 },
 "nbformat": 4,
 "nbformat_minor": 2
}
