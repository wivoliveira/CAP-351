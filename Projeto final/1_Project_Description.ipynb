{
 "cells": [
  {
   "cell_type": "markdown",
   "metadata": {},
   "source": [
    "<img src=\"./images/header.png\">\n",
    "\n",
    "***"
   ]
  },
  {
   "cell_type": "markdown",
   "metadata": {},
   "source": [
    "# Exploiting Sentinel-1 SAR time series and artificial neural networks to detect grasslands in the northern Brazilian Amazon\n",
    "\n",
    "[Part 1 - Project description]\n",
    "\n",
    "Willian Vieira de Oliveira"
   ]
  },
  {
   "cell_type": "markdown",
   "metadata": {},
   "source": [
    "<a id='Summary'></a>\n",
    "### SUMMARY\n",
    "\n",
    "1. [**Project Description**](./1_Project_Description.ipynb#About)\n",
    "    1. [Primary objective](./1_Project_Description.ipynb#PrimaryObjetive)\n",
    "    1. [Secondary objectives](./1_Project_Description.ipynb#SecondaryObjetives)\n",
    "    \n",
    "1. [**Study Site**](./1_Project_Description.ipynb#StudySite)\n",
    "\n",
    "1. [**Sentinel-1 Data Description**](./1_Project_Description.ipynb#DataDescription)\n",
    "\n",
    "1. [**Methodology Flowchart**](./1_Project_Description.ipynb#Methodology)\n",
    "    1. [**MLP Architecture**](./1_Project_Description.ipynb#MLP)\n",
    "    1. [**CNN Architecture**](./1_Project_Description.ipynb#CNN)\n",
    "    1. [**LSTM Architecture**](./1_Project_Description.ipynb#LSTM)\n",
    "    \n",
    "1. [**Data preparation**](./2_Data_Preparation.ipynb)\n",
    "\n",
    "1. [**Data classification**](#Summary)\n",
    "    1. [**Classification of CR data**](./3_Classification_CR.ipynb)\n",
    "    1. [**Classification of NL data**](./3_Classification_NL.ipynb)\n",
    "    1. [**Classification of RGI data**](./3_Classification_RGI.ipynb)\n",
    "    1. [**Classification of VH data**](./3_Classification_VH.ipynb)\n",
    "    1. [**Classification of VV data**](./3_Classification_VV.ipynb)\n",
    "    \n",
    "1. [**Results**](./4_Results_and_Conclusion.ipynb#Results)\n",
    "\n",
    "1. [**Conclusion**](./4_Results_and_Conclusion.ipynb#Conclusion)\n",
    "***"
   ]
  },
  {
   "attachments": {},
   "cell_type": "markdown",
   "metadata": {},
   "source": [
    "<a id='About'></a>\n",
    "## 1. Project Description\n",
    "\n",
    "Recent advances in cloud-computing technologies and remote sensing data availability foster the development of studies based on the analysis of optical and SAR imagery time series (TS). In this paper, we explore Sentinel-1 imagery time series and different Artificial Neural Network (ANN) architectures for the task of grassland detection in the northern Brazilian Amazon. We used the Google Earth Engine cloud-computing platform as an alternative to obtain and pre-process the Sentinel-1 imagery TS, acquired from 2017 to 2018 over the region of Mojuí dos Campos/PA, Brazil. In addition, we implemented the classification and validation procedures using the Python language. We performed classifications using both the original TS and temporal metrics extracted from the imagery TS. In this study, we also evaluated the potential of different ANN architectures, including Multilayer Perceptron (MLP), Convolutional Neural Network (CNN) and Long-Short Term Memory (LSTM). In addition, we analysed the time series considering different channels, including both the VV and VH polarizations and the CR, RGI and NL indices. We could efficiently discriminate areas of grasslands from forest and agricultural crops in the northern Brazilian Amazon, using the original VH TS and the LSTM architecture. The classification map resulting from this classification setup presented an overall accuracy of 90% and a 0.85 kappa index. Despite simple, the approach adopted in this paper showed potential to differ grasslands from areas of agriculture and forest in the northern Brazilian Amazon.\n",
    "\n",
    "<a id='PrimaryObjetive'></a>\n",
    "### 1.1. Primary objective\n",
    "\n",
    "Evaluate the potential of Sentinel-1 SAR imagery time series and different types of Artificial Neural Networks (ANN) to detect grasslands in the northern Brazilian Amazon.\n",
    "\n",
    "<a id='SecondaryObjetives'></a>\n",
    "### 1.2. Secondary objectives\n",
    "\n",
    "- Evaluate which polarization channels, including derived indices, are more suitable for grassland detection;\n",
    "\n",
    "- Assess the potential of using basic temporal metrics, extracted from the time series, to classify grasslands; and,\n",
    "\n",
    "- Compare the classification efficiency of different types of neural networks, including MLP, CNN and LSTM."
   ]
  },
  {
   "cell_type": "markdown",
   "metadata": {},
   "source": [
    "<a id='StudySite'></a>\n",
    "## 2. Study Site\n",
    "\n",
    "The study area of the proposed method is located mostly at Mojuí dos Campos municipality, including also part of the Belterra municipality, both at Pará, Brazil. The study site comprises about 771,541 square kilometres, being composed mostly of **agricultural crops, pasture areas and native forest**."
   ]
  },
  {
   "cell_type": "markdown",
   "metadata": {},
   "source": [
    "<img src=\"./images/Fig1_StudySite.png\" width=\"80%\">"
   ]
  },
  {
   "attachments": {},
   "cell_type": "markdown",
   "metadata": {},
   "source": [
    "<a id='DataDescription'></a>\n",
    "## 3. Sentinel-1 Data Description\n",
    "\n",
    "- Sentinel-1 missions: Two twin’s satellites (S1A and S1B)\n",
    "- Sensor: C-Band (5.405 GHz ~ 5.55cm)\n",
    "- Spatial Res.: 5 x 20m (rg x az)\n",
    "- Revisit Frequency:  12 days\n",
    "\n",
    "\n",
    "#### 3.1. Data used in this project\n",
    "- Satellite: S1A\n",
    "- Period: 09/2017 to 09/2018\n",
    "- Orbit: Descending \n",
    "- Mode: Interferometric Wide Swath (250x250km)\n",
    "- Number of Images: 31 VH+VV"
   ]
  },
  {
   "attachments": {},
   "cell_type": "markdown",
   "metadata": {},
   "source": [
    "<a id='Methodology'></a>\n",
    "## 4. Methodology flowchart\n",
    "\n",
    "The flowchart illustrated below presents an overview of the methodology. In this flowchart, we consider as input data the imagery TS already pre-processed, composed of orthorrectified and filtered images obtained in two different polarizations (VV and VH). We used these channels to compute three different radar indices: the VH/VV polarization ratio, defined here as cross ratio (CR); a normalization ratio (NL); and, the Radar Gap Index (RGI). The products resulting from these indices aggregate information from both polarizations.\n",
    "\n",
    "- CR=VH/VV\n",
    "- NL=(VV* VH)/(VV+VH)\n",
    "- RGI=(VV- VH)/(VV+VH)\n",
    "\n",
    "<br>\n",
    "<img src=\"./images/Flowchart.png\" width=\"80%\">\n",
    "<br>\n"
   ]
  },
  {
   "attachments": {},
   "cell_type": "markdown",
   "metadata": {},
   "source": [
    "<a id='MLP'></a>\n",
    "### 4.1 MLP architecture\n",
    "\n",
    "Parameters used:\n",
    "- Epochs: 50;\n",
    "- Neurons: 100;\n",
    "- Neurons in the output layer: 3;\n",
    "- Term of momentum: 0.8;\n",
    "- Activation function: ‘relu’ was applied to all layers except the output layer (‘softmax’).\n",
    "\n",
    "<br>\n",
    "<img src=\"./images/Architecture_MLP.png\" width=\"60%\">\n",
    "<br>"
   ]
  },
  {
   "attachments": {},
   "cell_type": "markdown",
   "metadata": {},
   "source": [
    "<a id='CNN'></a>\n",
    "### 4.2 CNN architecture\n",
    "\n",
    "Parameters used:\n",
    "- Epochs: 50;\n",
    "- Neurons: 100;\n",
    "- Neurons in the output layer: 3;\n",
    "- Convolutional filters: 31;\n",
    "- Kernel size: 3;\n",
    "- Activation function: ‘relu’ was applied to all layers except the output layer (‘softmax’).\n",
    "\n",
    "<br>\n",
    "<img src=\"./images/Architecture_CNN.png\" width=\"70%\">\n",
    "<br>"
   ]
  },
  {
   "attachments": {},
   "cell_type": "markdown",
   "metadata": {},
   "source": [
    "<a id='LSTM'></a>\n",
    "### 4.3 LSTM architecture\n",
    "\n",
    "Parameters used:\n",
    "- Epochs: 50;\n",
    "- Neurons: 100;\n",
    "- Neurons in the output layer: 3;\n",
    "- Batch size: 124;\n",
    "- Activation function: ‘relu’ was applied to all layers except the output layer (‘softmax’).\n",
    "\n",
    "<br>\n",
    "<img src=\"./images/Architecture_LSTM.png\" width=\"70%\">\n",
    "<br>"
   ]
  }
 ],
 "metadata": {
  "kernelspec": {
   "display_name": "Python 3",
   "language": "python",
   "name": "python3"
  },
  "language_info": {
   "codemirror_mode": {
    "name": "ipython",
    "version": 3
   },
   "file_extension": ".py",
   "mimetype": "text/x-python",
   "name": "python",
   "nbconvert_exporter": "python",
   "pygments_lexer": "ipython3",
   "version": "3.7.3"
  }
 },
 "nbformat": 4,
 "nbformat_minor": 2
}
