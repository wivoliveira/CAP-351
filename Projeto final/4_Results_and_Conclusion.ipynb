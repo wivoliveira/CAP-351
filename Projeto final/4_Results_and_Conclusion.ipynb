{
 "cells": [
  {
   "cell_type": "markdown",
   "metadata": {},
   "source": [
    "<img src=\"./images/header.png\">\n",
    "\n",
    "***"
   ]
  },
  {
   "cell_type": "markdown",
   "metadata": {},
   "source": [
    "# Exploiting Sentinel-1 SAR time series and artificial neural networks to detect grasslands in the northern Brazilian Amazon\n",
    "\n",
    "[Part 4 - Results and conclusion]\n",
    "\n",
    "Willian Vieira de Oliveira"
   ]
  },
  {
   "cell_type": "markdown",
   "metadata": {},
   "source": [
    "<a id='Summary'></a>\n",
    "### SUMMARY\n",
    "\n",
    "1. [**Project Description**](./1_Project_Description.ipynb#About)\n",
    "    1. [Primary objective](./1_Project_Description.ipynb#PrimaryObjetive)\n",
    "    2. [Secondary objectives](./1_Project_Description.ipynb#SecondaryObjetives)\n",
    "    \n",
    "1. [**Study Site**](./1_Project_Description.ipynb#StudySite)\n",
    "\n",
    "1. [**Sentinel-1 Data Description**](./1_Project_Description.ipynb#DataDescription)\n",
    "\n",
    "1. [**Methodology Flowchart**](./1_Project_Description.ipynb#Methodology)\n",
    "    1. [**MLP Architecture**](./1_Project_Description.ipynb#MLP)\n",
    "    1. [**CNN Architecture**](./1_Project_Description.ipynb#CNN)\n",
    "    1. [**LSTM Architecture**](./1_Project_Description.ipynb#LSTM)\n",
    "    \n",
    "1. [**Data preparation**](./2_Data_Preparation.ipynb)\n",
    "\n",
    "1. [**Data classification**](#Summary)\n",
    "    1. [**Classification of CR data**](./3_Classification_CR.ipynb)\n",
    "    1. [**Classification of NL data**](./3_Classification_NL.ipynb)\n",
    "    1. [**Classification of RGI data**](./3_Classification_RGI.ipynb)\n",
    "    1. [**Classification of VH data**](./3_Classification_VH.ipynb)\n",
    "    1. [**Classification of VV data**](./3_Classification_VV.ipynb)\n",
    "    \n",
    "1. [**Results**](#Results)\n",
    "\n",
    "1. [**Conclusion**](#Conclusion)\n",
    "***"
   ]
  },
  {
   "cell_type": "markdown",
   "metadata": {},
   "source": [
    "<a id='Results'></a>\n",
    "## 7. Results\n",
    "\n",
    "False-colour composite image that uses temporal metric images to emphasize the difference between areas of agriculture, forest and grasslands, along with the invariant samples:\n",
    "\n",
    "<img src=\"./images/Map_Metrics_composition_Samples.png\" width=\"100%\">\n"
   ]
  },
  {
   "cell_type": "markdown",
   "metadata": {},
   "source": [
    "Composite of the SAR time series describing the annual average behaviour of the backscattering for the analysed classes, at different channels. The shaded areas represent the standard deviation of the values observed during period of analysis:\n",
    "\n",
    "<img src=\"./images/TS.jpg\" width=\"100%\">"
   ]
  },
  {
   "cell_type": "markdown",
   "metadata": {},
   "source": [
    "Classification accuracies obtained in the experiments performed using different ANN architectures, data types and polarization channels:\n",
    "\n",
    "<img src=\"./images/Classification_Accuracies.png\" width=\"80%\">"
   ]
  },
  {
   "cell_type": "markdown",
   "metadata": {},
   "source": [
    "The following figure presents the classification map resulting from the use of the original VH time series and the LSTM architecture. This classification setup presented the highest OA. \n",
    "\n",
    "<img src=\"./images/Classification_Map_VH_TS_LSTM_2.png\" width=\"100%\">"
   ]
  },
  {
   "cell_type": "markdown",
   "metadata": {},
   "source": [
    "Table 1. Confusion matrix of the classification map resulting from the LSTM classification, using the original VH time series. The testing dataset used to compute these statistics consisted only of samples not used for training and validating the classification model. This classification presented satisfactory results, with an overall accuracy of 90% and a kappa index of approximately 0.85. The highest producer’s accuracy (PA) referred to the forest class, with a PA of 95.24% and a user’s accuracy (UA) of 89.17%. On the other hand, the agriculture class obtained the major UA (92.75%), along with a PA of 90.14%. The class grasslands presented a UA of 88.39% and a PA of 85.09%.\n",
    "\n",
    "<img src=\"./images/ConfusionMatrix_LSTM_VH.png\" width=\"50%\">\n",
    "\n",
    "The class grasslands presented the highest omission and commission errors, of 4.76% and 11.61%, respectively. In this study, we did not separate the different growing stages of pasture areas into different classes, which might also contribute to the obtainment of higher classification errors to this class. In addition, grasslands present spectral patterns that might be similar to those observed in areas of both agriculture and forest. This characteristic also contributes to the obtainment of lower accuracy indices for this class. It might be possible to mitigate these errors with the separation of these patterns into a larger number of classes."
   ]
  },
  {
   "cell_type": "markdown",
   "metadata": {},
   "source": [
    "<a id='Conclusion'></a>\n",
    "## 8. Conclusion\n",
    "\n",
    "This paper explores the potential of using Sentinel-1 imagery time series and different ANN architectures for the detection of grasslands in the northern Brazilian Amazon. We performed experiments that considered different ANN architectures to classify both the complete TS and temporal metrics extracted from original TS. The analysed dataset consisted of images acquired over the period of one year, from September 2017 to September 2018. The results obtained in this study led us to conclude that the analysis of SAR S1A TS can efficiently assist the detection of grasslands in the northern Brazilian Amazon. In addition, the use of temporal metrics resulted in good resulted, with OA greater than 80%. However, the temporal metrics analysed in this study produced classification maps with accuracy levels lower than those products obtained in the experiments that analysed the original TS. The classification map with the highest accuracy resulted from the use of only VH-polarized data and the LSTM architecture. The use of indices that aggregate both VV and VH data (CR, NL, RGI) did not result in a significative improvement of the classification.\n",
    "\n",
    "The results obtained in this study might be complemented with the use of ground data in order to provide more accurate analysis of the classification results, as well as the integration of optical data. The use of ground samples regarding pasture areas with different phonological stages could also assist the detection of different grassland types. In addition, the use of other temporal metrics might be tested in future works, including metrics that that into consideration the statistical distribution of the analysed data.\n"
   ]
  }
 ],
 "metadata": {
  "kernelspec": {
   "display_name": "Python 3",
   "language": "python",
   "name": "python3"
  },
  "language_info": {
   "codemirror_mode": {
    "name": "ipython",
    "version": 3
   },
   "file_extension": ".py",
   "mimetype": "text/x-python",
   "name": "python",
   "nbconvert_exporter": "python",
   "pygments_lexer": "ipython3",
   "version": "3.7.3"
  }
 },
 "nbformat": 4,
 "nbformat_minor": 2
}
